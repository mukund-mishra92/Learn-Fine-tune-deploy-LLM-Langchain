{
 "cells": [
  {
   "cell_type": "code",
   "execution_count": 2,
   "metadata": {},
   "outputs": [],
   "source": [
    "from langchain_text_splitters import HTMLHeaderTextSplitter\n",
    "html_string = \"\"\" \n",
    "\n",
    "<!DOCTYPE html>\n",
    "<html lang=\"en\">\n",
    "<head>\n",
    "    <meta charset=\"UTF-8\">\n",
    "    <title>Big HTML Page Example</title>\n",
    "    <style>\n",
    "        body {\n",
    "            font-family: Arial, sans-serif;\n",
    "            background: #f9f9f9;\n",
    "            margin: 20px;\n",
    "            line-height: 1.6;\n",
    "        }\n",
    "        h1, h2, h3 {\n",
    "            color: #333;\n",
    "        }\n",
    "        nav ul {\n",
    "            list-style: none;\n",
    "            padding: 0;\n",
    "            display: flex;\n",
    "            gap: 10px;\n",
    "        }\n",
    "        nav a {\n",
    "            text-decoration: none;\n",
    "            padding: 5px 10px;\n",
    "            background: #007bff;\n",
    "            color: white;\n",
    "            border-radius: 5px;\n",
    "        }\n",
    "        table {\n",
    "            width: 100%;\n",
    "            border-collapse: collapse;\n",
    "            margin-top: 20px;\n",
    "        }\n",
    "        table, th, td {\n",
    "            border: 1px solid #ddd;\n",
    "        }\n",
    "        th, td {\n",
    "            padding: 10px;\n",
    "            text-align: left;\n",
    "        }\n",
    "        form {\n",
    "            margin-top: 30px;\n",
    "        }\n",
    "    </style>\n",
    "</head>\n",
    "<body>\n",
    "\n",
    "    <header>\n",
    "        <h1>Welcome to My Big HTML Page</h1>\n",
    "        <nav>\n",
    "            <ul>\n",
    "                <li><a href=\"#section1\">Intro</a></li>\n",
    "                <li><a href=\"#table\">Table</a></li>\n",
    "                <li><a href=\"#form\">Form</a></li>\n",
    "                <li><a href=\"#images\">Images</a></li>\n",
    "                <li><a href=\"#script\">Script</a></li>\n",
    "            </ul>\n",
    "        </nav>\n",
    "    </header>\n",
    "\n",
    "    <section id=\"section1\">\n",
    "        <h2>Introduction</h2>\n",
    "        <p>This is a sample page with various HTML components. It includes sections, lists, tables, forms, and even JavaScript for interactivity.</p>\n",
    "\n",
    "        <h3>Subsection</h3>\n",
    "        <p>Lorem ipsum dolor sit amet, consectetur adipiscing elit. Vestibulum sit amet tincidunt nulla. Suspendisse ut dolor non nulla porta pretium. Aliquam erat volutpat. Sed dapibus viverra dolor.</p>\n",
    "        \n",
    "        <ul>\n",
    "            <li>Unordered item 1</li>\n",
    "            <li>Unordered item 2</li>\n",
    "            <li>Unordered item 3</li>\n",
    "        </ul>\n",
    "\n",
    "        <ol>\n",
    "            <li>Ordered item 1</li>\n",
    "            <li>Ordered item 2</li>\n",
    "            <li>Ordered item 3</li>\n",
    "        </ol>\n",
    "    </section>\n",
    "\n",
    "    <section id=\"table\">\n",
    "        <h2>Data Table</h2>\n",
    "        <table>\n",
    "            <thead>\n",
    "                <tr>\n",
    "                    <th>Name</th>\n",
    "                    <th>Email</th>\n",
    "                    <th>Role</th>\n",
    "                </tr>\n",
    "            </thead>\n",
    "            <tbody>\n",
    "                <tr><td>Alice</td><td>alice@example.com</td><td>Admin</td></tr>\n",
    "                <tr><td>Bob</td><td>bob@example.com</td><td>Editor</td></tr>\n",
    "                <tr><td>Charlie</td><td>charlie@example.com</td><td>Viewer</td></tr>\n",
    "            </tbody>\n",
    "        </table>\n",
    "    </section>\n",
    "\n",
    "    <section id=\"form\">\n",
    "        <h2>Contact Form</h2>\n",
    "        <form>\n",
    "            <label>Name: <input type=\"text\" name=\"name\"></label><br><br>\n",
    "            <label>Email: <input type=\"email\" name=\"email\"></label><br><br>\n",
    "            <label>Message:<br><textarea name=\"message\" rows=\"5\" cols=\"40\"></textarea></label><br><br>\n",
    "            <input type=\"submit\" value=\"Send\">\n",
    "        </form>\n",
    "    </section>\n",
    "\n",
    "    <section id=\"images\">\n",
    "        <h2>Images</h2>\n",
    "        <img src=\"https://via.placeholder.com/300\" alt=\"Placeholder Image\">\n",
    "        <img src=\"https://via.placeholder.com/200\" alt=\"Placeholder Image\">\n",
    "    </section>\n",
    "\n",
    "    <section id=\"script\">\n",
    "        <h2>Interactive Script</h2>\n",
    "        <button onclick=\"showMessage()\">Click Me</button>\n",
    "        <p id=\"message\"></p>\n",
    "\n",
    "        <script>\n",
    "            function showMessage() {\n",
    "                document.getElementById(\"message\").innerText = \"Hello from JavaScript!\";\n",
    "            }\n",
    "        </script>\n",
    "    </section>\n",
    "\n",
    "    <footer>\n",
    "        <p>&copy; 2025 Your Name. All rights reserved.</p>\n",
    "    </footer>\n",
    "\n",
    "</body>\n",
    "</html>\n",
    "\n",
    "\n",
    "\n",
    "\"\"\"\n",
    "\n",
    "header_to_split_on = [\n",
    "    (\"h1\", \"Header 1\"),\n",
    "    (\"h2\", \"Header 2\"),\n",
    "    (\"h3\", \"Header 3\")\n",
    "]\n",
    "\n",
    "html_splitter = HTMLHeaderTextSplitter(header_to_split_on)\n",
    "html_header_split = html_splitter.split_text(html_string)"
   ]
  },
  {
   "cell_type": "code",
   "execution_count": 3,
   "metadata": {},
   "outputs": [
    {
     "data": {
      "text/plain": [
       "[Document(metadata={'Header 1': 'Welcome to My Big HTML Page'}, page_content='Welcome to My Big HTML Page'),\n",
       " Document(metadata={'Header 1': 'Welcome to My Big HTML Page'}, page_content='Intro  \\nTable  \\nForm  \\nImages  \\nScript'),\n",
       " Document(metadata={'Header 1': 'Welcome to My Big HTML Page', 'Header 2': 'Introduction'}, page_content='Introduction'),\n",
       " Document(metadata={'Header 1': 'Welcome to My Big HTML Page', 'Header 2': 'Introduction'}, page_content='This is a sample page with various HTML components. It includes sections, lists, tables, forms, and even JavaScript for interactivity.'),\n",
       " Document(metadata={'Header 1': 'Welcome to My Big HTML Page', 'Header 2': 'Introduction', 'Header 3': 'Subsection'}, page_content='Subsection'),\n",
       " Document(metadata={'Header 1': 'Welcome to My Big HTML Page', 'Header 2': 'Introduction', 'Header 3': 'Subsection'}, page_content='Lorem ipsum dolor sit amet, consectetur adipiscing elit. Vestibulum sit amet tincidunt nulla. Suspendisse ut dolor non nulla porta pretium. Aliquam erat volutpat. Sed dapibus viverra dolor.  \\nUnordered item 1  \\nUnordered item 2  \\nUnordered item 3  \\nOrdered item 1  \\nOrdered item 2  \\nOrdered item 3'),\n",
       " Document(metadata={'Header 1': 'Welcome to My Big HTML Page', 'Header 2': 'Data Table'}, page_content='Data Table'),\n",
       " Document(metadata={'Header 1': 'Welcome to My Big HTML Page', 'Header 2': 'Data Table'}, page_content='Name  \\nEmail  \\nRole  \\nAlice  \\nalice@example.com  \\nAdmin  \\nBob  \\nbob@example.com  \\nEditor  \\nCharlie  \\ncharlie@example.com  \\nViewer'),\n",
       " Document(metadata={'Header 1': 'Welcome to My Big HTML Page', 'Header 2': 'Contact Form'}, page_content='Contact Form'),\n",
       " Document(metadata={'Header 1': 'Welcome to My Big HTML Page', 'Header 2': 'Contact Form'}, page_content='Name:  \\nEmail:  \\nMessage:'),\n",
       " Document(metadata={'Header 1': 'Welcome to My Big HTML Page', 'Header 2': 'Images'}, page_content='Images'),\n",
       " Document(metadata={'Header 1': 'Welcome to My Big HTML Page', 'Header 2': 'Interactive Script'}, page_content='Interactive Script'),\n",
       " Document(metadata={'Header 1': 'Welcome to My Big HTML Page', 'Header 2': 'Interactive Script'}, page_content='Click Me  \\nfunction showMessage() {\\n                document.getElementById(\"message\").innerText = \"Hello from JavaScript!\";\\n            }  \\n© 2025 Your Name. All rights reserved.')]"
      ]
     },
     "execution_count": 3,
     "metadata": {},
     "output_type": "execute_result"
    }
   ],
   "source": [
    "html_header_split"
   ]
  },
  {
   "cell_type": "code",
   "execution_count": 5,
   "metadata": {},
   "outputs": [],
   "source": [
    "## lets load the html data from langchain directly\n",
    "\n",
    "from langchain_community.document_loaders import UnstructuredHTMLLoader\n",
    "\n",
    "data_html_loader = UnstructuredHTMLLoader(\"test.html\")"
   ]
  },
  {
   "cell_type": "code",
   "execution_count": 6,
   "metadata": {},
   "outputs": [
    {
     "data": {
      "text/plain": [
       "[Document(metadata={'source': 'test.html'}, page_content='Welcome to My Big HTML Page\\n\\nIntroduction\\n\\nThis is a sample page with various HTML components. It includes sections, lists, tables, forms, and even JavaScript for interactivity.\\n\\nSubsection\\n\\nLorem ipsum dolor sit amet, consectetur adipiscing elit. Vestibulum sit amet tincidunt nulla. Suspendisse ut dolor non nulla porta pretium. Aliquam erat volutpat. Sed dapibus viverra dolor.\\n\\nUnordered item 1\\n\\nUnordered item 2\\n\\nUnordered item 3\\n\\nOrdered item 1\\n\\nOrdered item 2\\n\\nOrdered item 3\\n\\nData Table\\n\\nName Email Role Alice alice@example.com Admin Bob bob@example.com Editor Charlie charlie@example.com Viewer\\n\\nContact Form\\n\\nImages\\n\\nPlaceholder Image\\n\\nPlaceholder Image\\n\\nInteractive Script\\n\\n© 2025 Your Name. All rights reserved.')]"
      ]
     },
     "execution_count": 6,
     "metadata": {},
     "output_type": "execute_result"
    }
   ],
   "source": [
    "data_html_loader.load()"
   ]
  },
  {
   "cell_type": "code",
   "execution_count": 7,
   "metadata": {},
   "outputs": [],
   "source": [
    "header_to_split_on = [\n",
    "    (\"h1\", \"Header 1\"),\n",
    "    (\"h2\", \"Header 2\"),\n",
    "    (\"h3\", \"Header 3\")\n",
    "]\n",
    "\n",
    "html_splitter = HTMLHeaderTextSplitter(header_to_split_on)\n",
    "html_header_split = html_splitter.split_text(html_string)"
   ]
  },
  {
   "cell_type": "code",
   "execution_count": 8,
   "metadata": {},
   "outputs": [
    {
     "data": {
      "text/plain": [
       "[Document(metadata={'Header 1': 'Welcome to My Big HTML Page'}, page_content='Welcome to My Big HTML Page'),\n",
       " Document(metadata={'Header 1': 'Welcome to My Big HTML Page'}, page_content='Intro  \\nTable  \\nForm  \\nImages  \\nScript'),\n",
       " Document(metadata={'Header 1': 'Welcome to My Big HTML Page', 'Header 2': 'Introduction'}, page_content='Introduction'),\n",
       " Document(metadata={'Header 1': 'Welcome to My Big HTML Page', 'Header 2': 'Introduction'}, page_content='This is a sample page with various HTML components. It includes sections, lists, tables, forms, and even JavaScript for interactivity.'),\n",
       " Document(metadata={'Header 1': 'Welcome to My Big HTML Page', 'Header 2': 'Introduction', 'Header 3': 'Subsection'}, page_content='Subsection'),\n",
       " Document(metadata={'Header 1': 'Welcome to My Big HTML Page', 'Header 2': 'Introduction', 'Header 3': 'Subsection'}, page_content='Lorem ipsum dolor sit amet, consectetur adipiscing elit. Vestibulum sit amet tincidunt nulla. Suspendisse ut dolor non nulla porta pretium. Aliquam erat volutpat. Sed dapibus viverra dolor.  \\nUnordered item 1  \\nUnordered item 2  \\nUnordered item 3  \\nOrdered item 1  \\nOrdered item 2  \\nOrdered item 3'),\n",
       " Document(metadata={'Header 1': 'Welcome to My Big HTML Page', 'Header 2': 'Data Table'}, page_content='Data Table'),\n",
       " Document(metadata={'Header 1': 'Welcome to My Big HTML Page', 'Header 2': 'Data Table'}, page_content='Name  \\nEmail  \\nRole  \\nAlice  \\nalice@example.com  \\nAdmin  \\nBob  \\nbob@example.com  \\nEditor  \\nCharlie  \\ncharlie@example.com  \\nViewer'),\n",
       " Document(metadata={'Header 1': 'Welcome to My Big HTML Page', 'Header 2': 'Contact Form'}, page_content='Contact Form'),\n",
       " Document(metadata={'Header 1': 'Welcome to My Big HTML Page', 'Header 2': 'Contact Form'}, page_content='Name:  \\nEmail:  \\nMessage:'),\n",
       " Document(metadata={'Header 1': 'Welcome to My Big HTML Page', 'Header 2': 'Images'}, page_content='Images'),\n",
       " Document(metadata={'Header 1': 'Welcome to My Big HTML Page', 'Header 2': 'Interactive Script'}, page_content='Interactive Script'),\n",
       " Document(metadata={'Header 1': 'Welcome to My Big HTML Page', 'Header 2': 'Interactive Script'}, page_content='Click Me  \\nfunction showMessage() {\\n                document.getElementById(\"message\").innerText = \"Hello from JavaScript!\";\\n            }  \\n© 2025 Your Name. All rights reserved.')]"
      ]
     },
     "execution_count": 8,
     "metadata": {},
     "output_type": "execute_result"
    }
   ],
   "source": [
    "html_header_split"
   ]
  }
 ],
 "metadata": {
  "kernelspec": {
   "display_name": "Python 3",
   "language": "python",
   "name": "python3"
  },
  "language_info": {
   "codemirror_mode": {
    "name": "ipython",
    "version": 3
   },
   "file_extension": ".py",
   "mimetype": "text/x-python",
   "name": "python",
   "nbconvert_exporter": "python",
   "pygments_lexer": "ipython3",
   "version": "3.10.0"
  }
 },
 "nbformat": 4,
 "nbformat_minor": 2
}
