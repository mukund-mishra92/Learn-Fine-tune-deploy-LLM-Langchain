{
 "cells": [
  {
   "cell_type": "code",
   "execution_count": 3,
   "metadata": {},
   "outputs": [
    {
     "ename": "JSONDecodeError",
     "evalue": "Expecting value: line 3 column 1 (char 4)",
     "output_type": "error",
     "traceback": [
      "\u001b[0;31m---------------------------------------------------------------------------\u001b[0m",
      "\u001b[0;31mJSONDecodeError\u001b[0m                           Traceback (most recent call last)",
      "File \u001b[0;32m~/Desktop/Learn-Fine-tune-deploy-LLM-Langchain/venv/lib/python3.10/site-packages/requests/models.py:974\u001b[0m, in \u001b[0;36mResponse.json\u001b[0;34m(self, **kwargs)\u001b[0m\n\u001b[1;32m    973\u001b[0m \u001b[38;5;28;01mtry\u001b[39;00m:\n\u001b[0;32m--> 974\u001b[0m     \u001b[38;5;28;01mreturn\u001b[39;00m \u001b[43mcomplexjson\u001b[49m\u001b[38;5;241;43m.\u001b[39;49m\u001b[43mloads\u001b[49m\u001b[43m(\u001b[49m\u001b[38;5;28;43mself\u001b[39;49m\u001b[38;5;241;43m.\u001b[39;49m\u001b[43mtext\u001b[49m\u001b[43m,\u001b[49m\u001b[43m \u001b[49m\u001b[38;5;241;43m*\u001b[39;49m\u001b[38;5;241;43m*\u001b[39;49m\u001b[43mkwargs\u001b[49m\u001b[43m)\u001b[49m\n\u001b[1;32m    975\u001b[0m \u001b[38;5;28;01mexcept\u001b[39;00m JSONDecodeError \u001b[38;5;28;01mas\u001b[39;00m e:\n\u001b[1;32m    976\u001b[0m     \u001b[38;5;66;03m# Catch JSON-related errors and raise as requests.JSONDecodeError\u001b[39;00m\n\u001b[1;32m    977\u001b[0m     \u001b[38;5;66;03m# This aliases json.JSONDecodeError and simplejson.JSONDecodeError\u001b[39;00m\n",
      "File \u001b[0;32m~/Desktop/Learn-Fine-tune-deploy-LLM-Langchain/venv/lib/python3.10/site-packages/simplejson/__init__.py:514\u001b[0m, in \u001b[0;36mloads\u001b[0;34m(s, encoding, cls, object_hook, parse_float, parse_int, parse_constant, object_pairs_hook, use_decimal, allow_nan, **kw)\u001b[0m\n\u001b[1;32m    510\u001b[0m \u001b[38;5;28;01mif\u001b[39;00m (\u001b[38;5;28mcls\u001b[39m \u001b[38;5;129;01mis\u001b[39;00m \u001b[38;5;28;01mNone\u001b[39;00m \u001b[38;5;129;01mand\u001b[39;00m encoding \u001b[38;5;129;01mis\u001b[39;00m \u001b[38;5;28;01mNone\u001b[39;00m \u001b[38;5;129;01mand\u001b[39;00m object_hook \u001b[38;5;129;01mis\u001b[39;00m \u001b[38;5;28;01mNone\u001b[39;00m \u001b[38;5;129;01mand\u001b[39;00m\n\u001b[1;32m    511\u001b[0m         parse_int \u001b[38;5;129;01mis\u001b[39;00m \u001b[38;5;28;01mNone\u001b[39;00m \u001b[38;5;129;01mand\u001b[39;00m parse_float \u001b[38;5;129;01mis\u001b[39;00m \u001b[38;5;28;01mNone\u001b[39;00m \u001b[38;5;129;01mand\u001b[39;00m\n\u001b[1;32m    512\u001b[0m         parse_constant \u001b[38;5;129;01mis\u001b[39;00m \u001b[38;5;28;01mNone\u001b[39;00m \u001b[38;5;129;01mand\u001b[39;00m object_pairs_hook \u001b[38;5;129;01mis\u001b[39;00m \u001b[38;5;28;01mNone\u001b[39;00m\n\u001b[1;32m    513\u001b[0m         \u001b[38;5;129;01mand\u001b[39;00m \u001b[38;5;129;01mnot\u001b[39;00m use_decimal \u001b[38;5;129;01mand\u001b[39;00m \u001b[38;5;129;01mnot\u001b[39;00m allow_nan \u001b[38;5;129;01mand\u001b[39;00m \u001b[38;5;129;01mnot\u001b[39;00m kw):\n\u001b[0;32m--> 514\u001b[0m     \u001b[38;5;28;01mreturn\u001b[39;00m \u001b[43m_default_decoder\u001b[49m\u001b[38;5;241;43m.\u001b[39;49m\u001b[43mdecode\u001b[49m\u001b[43m(\u001b[49m\u001b[43ms\u001b[49m\u001b[43m)\u001b[49m\n\u001b[1;32m    515\u001b[0m \u001b[38;5;28;01mif\u001b[39;00m \u001b[38;5;28mcls\u001b[39m \u001b[38;5;129;01mis\u001b[39;00m \u001b[38;5;28;01mNone\u001b[39;00m:\n",
      "File \u001b[0;32m~/Desktop/Learn-Fine-tune-deploy-LLM-Langchain/venv/lib/python3.10/site-packages/simplejson/decoder.py:386\u001b[0m, in \u001b[0;36mJSONDecoder.decode\u001b[0;34m(self, s, _w, _PY3)\u001b[0m\n\u001b[1;32m    385\u001b[0m     s \u001b[38;5;241m=\u001b[39m \u001b[38;5;28mstr\u001b[39m(s, \u001b[38;5;28mself\u001b[39m\u001b[38;5;241m.\u001b[39mencoding)\n\u001b[0;32m--> 386\u001b[0m obj, end \u001b[38;5;241m=\u001b[39m \u001b[38;5;28;43mself\u001b[39;49m\u001b[38;5;241;43m.\u001b[39;49m\u001b[43mraw_decode\u001b[49m\u001b[43m(\u001b[49m\u001b[43ms\u001b[49m\u001b[43m)\u001b[49m\n\u001b[1;32m    387\u001b[0m end \u001b[38;5;241m=\u001b[39m _w(s, end)\u001b[38;5;241m.\u001b[39mend()\n",
      "File \u001b[0;32m~/Desktop/Learn-Fine-tune-deploy-LLM-Langchain/venv/lib/python3.10/site-packages/simplejson/decoder.py:416\u001b[0m, in \u001b[0;36mJSONDecoder.raw_decode\u001b[0;34m(self, s, idx, _w, _PY3)\u001b[0m\n\u001b[1;32m    415\u001b[0m         idx \u001b[38;5;241m+\u001b[39m\u001b[38;5;241m=\u001b[39m \u001b[38;5;241m3\u001b[39m\n\u001b[0;32m--> 416\u001b[0m \u001b[38;5;28;01mreturn\u001b[39;00m \u001b[38;5;28;43mself\u001b[39;49m\u001b[38;5;241;43m.\u001b[39;49m\u001b[43mscan_once\u001b[49m\u001b[43m(\u001b[49m\u001b[43ms\u001b[49m\u001b[43m,\u001b[49m\u001b[43m \u001b[49m\u001b[43midx\u001b[49m\u001b[38;5;241;43m=\u001b[39;49m\u001b[43m_w\u001b[49m\u001b[43m(\u001b[49m\u001b[43ms\u001b[49m\u001b[43m,\u001b[49m\u001b[43m \u001b[49m\u001b[43midx\u001b[49m\u001b[43m)\u001b[49m\u001b[38;5;241;43m.\u001b[39;49m\u001b[43mend\u001b[49m\u001b[43m(\u001b[49m\u001b[43m)\u001b[49m\u001b[43m)\u001b[49m\n",
      "\u001b[0;31mJSONDecodeError\u001b[0m: Expecting value: line 3 column 1 (char 4)",
      "\nDuring handling of the above exception, another exception occurred:\n",
      "\u001b[0;31mJSONDecodeError\u001b[0m                           Traceback (most recent call last)",
      "Cell \u001b[0;32mIn[3], line 6\u001b[0m\n\u001b[1;32m      2\u001b[0m \u001b[38;5;28;01mimport\u001b[39;00m\u001b[38;5;250m \u001b[39m\u001b[38;5;21;01mrequests\u001b[39;00m\n\u001b[1;32m      4\u001b[0m path \u001b[38;5;241m=\u001b[39m \u001b[38;5;124m\"\u001b[39m\u001b[38;5;124mhttps://www.kaggle.com/datasets/yasirabdaali/arxivorg-ai-research-papers-dataset#:~:text=This\u001b[39m\u001b[38;5;132;01m%20d\u001b[39;00m\u001b[38;5;124mataset\u001b[39m\u001b[38;5;132;01m%20i\u001b[39;00m\u001b[38;5;124ms\u001b[39m\u001b[38;5;132;01m%20a\u001b[39;00m\u001b[38;5;124m%\u001b[39m\u001b[38;5;124m20valuable,to\u001b[39m\u001b[38;5;132;01m%20a\u001b[39;00m\u001b[38;5;124mnalyze\u001b[39m\u001b[38;5;124m%\u001b[39m\u001b[38;5;124m20AI\u001b[39m\u001b[38;5;132;01m%20r\u001b[39;00m\u001b[38;5;124mesearch\u001b[39m\u001b[38;5;124m%\u001b[39m\u001b[38;5;124m20papers.json\u001b[39m\u001b[38;5;124m\"\u001b[39m\n\u001b[0;32m----> 6\u001b[0m json_data \u001b[38;5;241m=\u001b[39m \u001b[43mrequests\u001b[49m\u001b[38;5;241;43m.\u001b[39;49m\u001b[43mget\u001b[49m\u001b[43m(\u001b[49m\u001b[43mpath\u001b[49m\u001b[43m)\u001b[49m\u001b[38;5;241;43m.\u001b[39;49m\u001b[43mjson\u001b[49m\u001b[43m(\u001b[49m\u001b[43m)\u001b[49m\n",
      "File \u001b[0;32m~/Desktop/Learn-Fine-tune-deploy-LLM-Langchain/venv/lib/python3.10/site-packages/requests/models.py:978\u001b[0m, in \u001b[0;36mResponse.json\u001b[0;34m(self, **kwargs)\u001b[0m\n\u001b[1;32m    974\u001b[0m     \u001b[38;5;28;01mreturn\u001b[39;00m complexjson\u001b[38;5;241m.\u001b[39mloads(\u001b[38;5;28mself\u001b[39m\u001b[38;5;241m.\u001b[39mtext, \u001b[38;5;241m*\u001b[39m\u001b[38;5;241m*\u001b[39mkwargs)\n\u001b[1;32m    975\u001b[0m \u001b[38;5;28;01mexcept\u001b[39;00m JSONDecodeError \u001b[38;5;28;01mas\u001b[39;00m e:\n\u001b[1;32m    976\u001b[0m     \u001b[38;5;66;03m# Catch JSON-related errors and raise as requests.JSONDecodeError\u001b[39;00m\n\u001b[1;32m    977\u001b[0m     \u001b[38;5;66;03m# This aliases json.JSONDecodeError and simplejson.JSONDecodeError\u001b[39;00m\n\u001b[0;32m--> 978\u001b[0m     \u001b[38;5;28;01mraise\u001b[39;00m RequestsJSONDecodeError(e\u001b[38;5;241m.\u001b[39mmsg, e\u001b[38;5;241m.\u001b[39mdoc, e\u001b[38;5;241m.\u001b[39mpos)\n",
      "\u001b[0;31mJSONDecodeError\u001b[0m: Expecting value: line 3 column 1 (char 4)"
     ]
    }
   ],
   "source": [
    "import json\n",
    "import requests\n",
    "\n",
    "path = \"https://www.kaggle.com/datasets/yasirabdaali/arxivorg-ai-research-papers-dataset#:~:text=This%20dataset%20is%20a%20valuable,to%20analyze%20AI%20research%20papers.json\"\n",
    "\n",
    "json_data = requests.get(path).json()\n",
    "\n"
   ]
  },
  {
   "cell_type": "code",
   "execution_count": 4,
   "metadata": {},
   "outputs": [],
   "source": [
    "with open(\"sample.json\") as f:\n",
    "    json_data = json.load(f)"
   ]
  },
  {
   "cell_type": "code",
   "execution_count": 5,
   "metadata": {},
   "outputs": [
    {
     "data": {
      "text/plain": [
       "{'platform': 'BlogSpace',\n",
       " 'version': '2.3.5',\n",
       " 'generated_at': '2025-05-21T14:30:00Z',\n",
       " 'users': [{'id': 1,\n",
       "   'username': 'alice01',\n",
       "   'email': 'alice@example.com',\n",
       "   'profile': {'full_name': 'Alice Johnson',\n",
       "    'bio': 'Tech enthusiast, writer, coffee lover.',\n",
       "    'location': 'New York, USA'},\n",
       "   'posts': [{'post_id': 101,\n",
       "     'title': 'Understanding JavaScript Closures',\n",
       "     'tags': ['JavaScript', 'Programming', 'WebDev'],\n",
       "     'created_at': '2025-01-12T09:00:00Z',\n",
       "     'likes': 134,\n",
       "     'comments': [{'user': 'devguy99',\n",
       "       'text': 'Great explanation, very helpful!',\n",
       "       'likes': 5},\n",
       "      {'user': 'codegirl', 'text': 'Still a bit confusing 😅', 'likes': 2}]},\n",
       "    {'post_id': 102,\n",
       "     'title': 'CSS Grid vs Flexbox',\n",
       "     'tags': ['CSS', 'Frontend'],\n",
       "     'created_at': '2025-02-05T11:20:00Z',\n",
       "     'likes': 89,\n",
       "     'comments': []}]},\n",
       "  {'id': 2,\n",
       "   'username': 'bob_dev',\n",
       "   'email': 'bob@example.com',\n",
       "   'profile': {'full_name': 'Bob Martinez',\n",
       "    'bio': 'Backend developer and Open Source contributor.',\n",
       "    'location': 'Berlin, Germany'},\n",
       "   'posts': [{'post_id': 103,\n",
       "     'title': 'REST vs GraphQL',\n",
       "     'tags': ['API', 'GraphQL', 'REST'],\n",
       "     'created_at': '2025-03-01T13:45:00Z',\n",
       "     'likes': 156,\n",
       "     'comments': [{'user': 'frontendfan',\n",
       "       'text': 'REST is still relevant!',\n",
       "       'likes': 3}]}]}],\n",
       " 'analytics': {'total_users': 2,\n",
       "  'total_posts': 3,\n",
       "  'total_comments': 3,\n",
       "  'most_liked_post': {'title': 'REST vs GraphQL',\n",
       "   'likes': 156,\n",
       "   'author': 'bob_dev'}}}"
      ]
     },
     "execution_count": 5,
     "metadata": {},
     "output_type": "execute_result"
    }
   ],
   "source": [
    "json_data"
   ]
  },
  {
   "cell_type": "code",
   "execution_count": 6,
   "metadata": {},
   "outputs": [],
   "source": [
    "from langchain_text_splitters import RecursiveJsonSplitter\n",
    "json_splitter = RecursiveJsonSplitter(max_chunk_size=250)\n",
    "json_chunked_data = json_splitter.split_json(json_data) "
   ]
  },
  {
   "cell_type": "code",
   "execution_count": 24,
   "metadata": {},
   "outputs": [
    {
     "name": "stdout",
     "output_type": "stream",
     "text": [
      "{'platform': 'BlogSpace', 'version': '2.3.5', 'generated_at': '2025-05-21T14:30:00Z'}\n",
      "{'users': [{'id': 1, 'username': 'alice01', 'email': 'alice@example.com', 'profile': {'full_name': 'Alice Johnson', 'bio': 'Tech enthusiast, writer, coffee lover.', 'location': 'New York, USA'}, 'posts': [{'post_id': 101, 'title': 'Understanding JavaScript Closures', 'tags': ['JavaScript', 'Programming', 'WebDev'], 'created_at': '2025-01-12T09:00:00Z', 'likes': 134, 'comments': [{'user': 'devguy99', 'text': 'Great explanation, very helpful!', 'likes': 5}, {'user': 'codegirl', 'text': 'Still a bit confusing 😅', 'likes': 2}]}, {'post_id': 102, 'title': 'CSS Grid vs Flexbox', 'tags': ['CSS', 'Frontend'], 'created_at': '2025-02-05T11:20:00Z', 'likes': 89, 'comments': []}]}, {'id': 2, 'username': 'bob_dev', 'email': 'bob@example.com', 'profile': {'full_name': 'Bob Martinez', 'bio': 'Backend developer and Open Source contributor.', 'location': 'Berlin, Germany'}, 'posts': [{'post_id': 103, 'title': 'REST vs GraphQL', 'tags': ['API', 'GraphQL', 'REST'], 'created_at': '2025-03-01T13:45:00Z', 'likes': 156, 'comments': [{'user': 'frontendfan', 'text': 'REST is still relevant!', 'likes': 3}]}]}]}\n",
      "{'analytics': {'total_users': 2, 'total_posts': 3, 'total_comments': 3, 'most_liked_post': {'title': 'REST vs GraphQL', 'likes': 156, 'author': 'bob_dev'}}}\n"
     ]
    }
   ],
   "source": [
    "for i in json_chunked_data[:5]:\n",
    "    print(i)"
   ]
  },
  {
   "cell_type": "code",
   "execution_count": 25,
   "metadata": {},
   "outputs": [],
   "source": [
    "## the splitter can also output documents\n",
    "\n",
    "doc = json_splitter.create_documents(texts = [json_data])"
   ]
  },
  {
   "cell_type": "code",
   "execution_count": 26,
   "metadata": {},
   "outputs": [
    {
     "data": {
      "text/plain": [
       "[Document(metadata={}, page_content='{\"platform\": \"BlogSpace\", \"version\": \"2.3.5\", \"generated_at\": \"2025-05-21T14:30:00Z\"}'),\n",
       " Document(metadata={}, page_content='{\"users\": [{\"id\": 1, \"username\": \"alice01\", \"email\": \"alice@example.com\", \"profile\": {\"full_name\": \"Alice Johnson\", \"bio\": \"Tech enthusiast, writer, coffee lover.\", \"location\": \"New York, USA\"}, \"posts\": [{\"post_id\": 101, \"title\": \"Understanding JavaScript Closures\", \"tags\": [\"JavaScript\", \"Programming\", \"WebDev\"], \"created_at\": \"2025-01-12T09:00:00Z\", \"likes\": 134, \"comments\": [{\"user\": \"devguy99\", \"text\": \"Great explanation, very helpful!\", \"likes\": 5}, {\"user\": \"codegirl\", \"text\": \"Still a bit confusing \\\\ud83d\\\\ude05\", \"likes\": 2}]}, {\"post_id\": 102, \"title\": \"CSS Grid vs Flexbox\", \"tags\": [\"CSS\", \"Frontend\"], \"created_at\": \"2025-02-05T11:20:00Z\", \"likes\": 89, \"comments\": []}]}, {\"id\": 2, \"username\": \"bob_dev\", \"email\": \"bob@example.com\", \"profile\": {\"full_name\": \"Bob Martinez\", \"bio\": \"Backend developer and Open Source contributor.\", \"location\": \"Berlin, Germany\"}, \"posts\": [{\"post_id\": 103, \"title\": \"REST vs GraphQL\", \"tags\": [\"API\", \"GraphQL\", \"REST\"], \"created_at\": \"2025-03-01T13:45:00Z\", \"likes\": 156, \"comments\": [{\"user\": \"frontendfan\", \"text\": \"REST is still relevant!\", \"likes\": 3}]}]}]}'),\n",
       " Document(metadata={}, page_content='{\"analytics\": {\"total_users\": 2, \"total_posts\": 3, \"total_comments\": 3, \"most_liked_post\": {\"title\": \"REST vs GraphQL\", \"likes\": 156, \"author\": \"bob_dev\"}}}')]"
      ]
     },
     "execution_count": 26,
     "metadata": {},
     "output_type": "execute_result"
    }
   ],
   "source": [
    "doc"
   ]
  }
 ],
 "metadata": {
  "kernelspec": {
   "display_name": "Python 3",
   "language": "python",
   "name": "python3"
  },
  "language_info": {
   "codemirror_mode": {
    "name": "ipython",
    "version": 3
   },
   "file_extension": ".py",
   "mimetype": "text/x-python",
   "name": "python",
   "nbconvert_exporter": "python",
   "pygments_lexer": "ipython3",
   "version": "3.10.0"
  }
 },
 "nbformat": 4,
 "nbformat_minor": 2
}
