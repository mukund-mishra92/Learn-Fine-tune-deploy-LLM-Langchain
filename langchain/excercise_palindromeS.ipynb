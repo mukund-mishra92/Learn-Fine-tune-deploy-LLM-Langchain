{
 "cells": [
  {
   "cell_type": "code",
   "execution_count": null,
   "metadata": {},
   "outputs": [],
   "source": [
    "## string is pallindrome or not.\n",
    "\n",
    "## Test-case : asa --> pallindrome\n",
    "## Test-case 2 : assa--> pallindrome\n"
   ]
  },
  {
   "cell_type": "code",
   "execution_count": 15,
   "metadata": {},
   "outputs": [
    {
     "name": "stdout",
     "output_type": "stream",
     "text": [
      "0\n"
     ]
    }
   ],
   "source": [
    "## Basic Function to check if a string is pallindrome\n",
    "\n",
    "def ispallindrome(s):\n",
    "    l = len(S)\n",
    "    res = 1\n",
    "    #print(l)\n",
    "    for i in range(0,l):\n",
    "\n",
    "        if S[i] == S[l-i-1]:\n",
    "            continue\n",
    "        else:\n",
    "            res = 0\n",
    "    return res\n",
    "\n",
    "S = \"abpqba\"\n",
    "print(ispallindrome(S))\n",
    "\n"
   ]
  },
  {
   "cell_type": "code",
   "execution_count": 6,
   "metadata": {},
   "outputs": [
    {
     "name": "stdout",
     "output_type": "stream",
     "text": [
      "False\n"
     ]
    }
   ],
   "source": [
    "def isPalindrome(s):\n",
    "  s = str(s).lower() # Convert to string and lowercase\n",
    "  return s == s[::-1]\n",
    "\n",
    "s = 'adpdda'\n",
    "print(isPalindrome(s))"
   ]
  },
  {
   "cell_type": "code",
   "execution_count": 20,
   "metadata": {},
   "outputs": [
    {
     "name": "stdout",
     "output_type": "stream",
     "text": [
      "addpda\n"
     ]
    }
   ],
   "source": [
    "s = 'adpdda'\n",
    "print(s[::-1])"
   ]
  },
  {
   "cell_type": "code",
   "execution_count": 40,
   "metadata": {},
   "outputs": [
    {
     "name": "stdout",
     "output_type": "stream",
     "text": [
      "pdddpda\n"
     ]
    }
   ],
   "source": [
    "s = 'adpdddp'\n",
    "print(s[::-1])"
   ]
  },
  {
   "cell_type": "code",
   "execution_count": 43,
   "metadata": {},
   "outputs": [
    {
     "name": "stdout",
     "output_type": "stream",
     "text": [
      "False\n"
     ]
    }
   ],
   "source": [
    "def ispal(s):\n",
    "    if(s==s[::-1]):\n",
    "        return True\n",
    "    else:\n",
    "        return False\n",
    "    \n",
    "s='abpa'\n",
    "print(ispal(s))"
   ]
  }
 ],
 "metadata": {
  "kernelspec": {
   "display_name": "Python 3",
   "language": "python",
   "name": "python3"
  },
  "language_info": {
   "codemirror_mode": {
    "name": "ipython",
    "version": 3
   },
   "file_extension": ".py",
   "mimetype": "text/x-python",
   "name": "python",
   "nbconvert_exporter": "python",
   "pygments_lexer": "ipython3",
   "version": "3.10.0"
  }
 },
 "nbformat": 4,
 "nbformat_minor": 2
}
