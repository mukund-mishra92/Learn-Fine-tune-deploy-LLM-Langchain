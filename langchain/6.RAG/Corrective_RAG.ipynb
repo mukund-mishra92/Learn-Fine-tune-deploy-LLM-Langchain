{
 "cells": [
  {
   "cell_type": "code",
   "execution_count": 11,
   "metadata": {},
   "outputs": [],
   "source": [
    "import os\n",
    "from dotenv import load_dotenv\n",
    "load_dotenv()\n",
    "\n",
    "os.environ['GROQ_API_KEY'] = os.getenv(\"GROQ_API_KEY\")\n",
    "os.environ['OPENAI_API_KEY'] = os.getenv(\"OPENAI_API_KEY\")\n",
    "os.environ['TAVILY_API_KEY'] = os.getenv(\"TAVAILY_API_KEY\")\n"
   ]
  },
  {
   "cell_type": "code",
   "execution_count": 5,
   "metadata": {},
   "outputs": [
    {
     "name": "stderr",
     "output_type": "stream",
     "text": [
      "USER_AGENT environment variable not set, consider setting it to identify your requests.\n"
     ]
    }
   ],
   "source": [
    "from langchain.text_splitter import RecursiveCharacterTextSplitter\n",
    "from langchain_community.document_loaders import WebBaseLoader\n",
    "from langchain_community.vectorstores import FAISS\n",
    "from langchain_openai import OpenAIEmbeddings\n",
    "\n",
    "embd = OpenAIEmbeddings()\n",
    "\n",
    "urls = [\n",
    "    \"https://platform.openai.com/docs/guides/agents\",\n",
    "    \"https://platform.openai.com/docs/guides/supervised-fine-tuning\",\n",
    "    \"https://platform.openai.com/docs/guides/vision-fine-tuning\",\n",
    "    \"https://platform.openai.com/docs/guides/reinforcement-fine-tuning\"\n",
    "]\n",
    "\n",
    "docs = [WebBaseLoader(url).load() for url in urls]\n",
    "\n",
    "doc_list = [item for sublist in docs for item in sublist]\n",
    "\n",
    "text_splitter = RecursiveCharacterTextSplitter.from_tiktoken_encoder(\n",
    "    chunk_size = 500,\n",
    "    chunk_overlap = 0\n",
    ")\n",
    "\n",
    "doc_splits = text_splitter.split_documents(doc_list)\n",
    "\n",
    "## add the document to vectorstore\n",
    "\n",
    "vectorstores = FAISS.from_documents(\n",
    "    documents=doc_splits,\n",
    "    embedding=OpenAIEmbeddings()\n",
    ")\n",
    "\n",
    "retreiver = vectorstores.as_retriever()"
   ]
  },
  {
   "cell_type": "code",
   "execution_count": 6,
   "metadata": {},
   "outputs": [
    {
     "name": "stderr",
     "output_type": "stream",
     "text": [
      "/Users/balmukundmishra/Desktop/Learn-Fine-tune-deploy-LLM-Langchain/venv/lib/python3.10/site-packages/langchain_openai/chat_models/base.py:1669: UserWarning: Cannot use method='json_schema' with model gpt-3.5-turbo-0125 since it doesn't support OpenAI's Structured Output API. You can see supported models here: https://platform.openai.com/docs/guides/structured-outputs#supported-models. To fix this warning, set `method='function_calling'. Overriding to method='function_calling'.\n",
      "  warnings.warn(\n"
     ]
    },
    {
     "name": "stdout",
     "output_type": "stream",
     "text": [
      "binary_score='no'\n"
     ]
    }
   ],
   "source": [
    "## lets implement the grader\n",
    "from langchain_core.prompts import ChatPromptTemplate\n",
    "from langchain_openai import ChatOpenAI\n",
    "from pydantic import BaseModel, Field\n",
    "\n",
    "\n",
    "## Datamodel or Grade model\n",
    "class GradeDoc(BaseModel):\n",
    "    ## need to retrun binary score as relavance score\n",
    "    binary_score: str = Field(\n",
    "        description=\"document is relevent to the question 'yes' or 'no'\"\n",
    "    )\n",
    "\n",
    "## llm with function call\n",
    "llm = ChatOpenAI(model=\"gpt-3.5-turbo-0125\", temperature=0)\n",
    "structured_llm_grader = llm.with_structured_output(GradeDoc)\n",
    "\n",
    "## Prompt\n",
    "system = \"\"\" You are a grader assessing relevance of a retrieved document to a user question. \\n\n",
    "If the document contains keywords or semnatic meaning related to the question, grade it as relevant.\\n\n",
    "Give a binary score 'yes' or 'no' score to indicate whaether the document is relevent to the question.\"\"\"\n",
    "\n",
    "grade_prompt = ChatPromptTemplate.from_messages(\n",
    "   [\n",
    "       ('system', system),\n",
    "       ('human', 'Retrieved document : \\n \\n {document} \\n \\n User question: {question}')\n",
    "   ] \n",
    ")\n",
    "\n",
    "retrieval_grader= grade_prompt | structured_llm_grader\n",
    "question = 'agent memory'\n",
    "docs = retreiver.invoke(question)\n",
    "doc_text = docs[1].page_content\n",
    "print(retrieval_grader.invoke({'question':question, 'document': doc_text}))\n"
   ]
  },
  {
   "cell_type": "code",
   "execution_count": 7,
   "metadata": {},
   "outputs": [
    {
     "name": "stdout",
     "output_type": "stream",
     "text": [
      "I don't know.\n"
     ]
    }
   ],
   "source": [
    "## Generate\n",
    "\n",
    "from langchain import hub\n",
    "from langchain_core.output_parsers import StrOutputParser\n",
    "\n",
    "## Prompt\n",
    "\n",
    "prompt = hub.pull(\"rlm/rag-prompt\")\n",
    "\n",
    "## llm\n",
    "llm = ChatOpenAI(model=\"gpt-3.5-turbo\", temperature=0)\n",
    "\n",
    "## Post-processing\n",
    "def format_docs(docs):\n",
    "    return \"\\n\\n\".join(doc.page_content for doc in docs)\n",
    "\n",
    "## Chain\n",
    "rag_chain = prompt | llm | StrOutputParser()\n",
    "\n",
    "## Run\n",
    "generation = rag_chain.invoke({\"context\": docs, \"question\": question})\n",
    "print(generation)"
   ]
  },
  {
   "cell_type": "code",
   "execution_count": 8,
   "metadata": {},
   "outputs": [
    {
     "data": {
      "text/plain": [
       "'What is the role of memory in artificial intelligence agents?'"
      ]
     },
     "execution_count": 8,
     "metadata": {},
     "output_type": "execute_result"
    }
   ],
   "source": [
    "## Question rewriter\n",
    "\n",
    "llm = ChatOpenAI(model=\"gpt-3.5-turbo\", temperature=0)\n",
    "\n",
    "## Prompt\n",
    "system = \"\"\" You a question re-writer that converts an input question into a better version that is optimized. \\n\n",
    "for websearch, look at the input, and try to reason about the underlying semantic intent / meaning.\"\"\"\n",
    "\n",
    "rewrite_prompt = ChatPromptTemplate.from_messages(\n",
    "    [\n",
    "        ('system', system),\n",
    "        ('human',\n",
    "         'here is the initial question \\n\\n {question} \\n formulate an improved question.'),\n",
    "    ]\n",
    ")\n",
    "\n",
    "question_rewriter = rewrite_prompt | llm | StrOutputParser()\n",
    "\n",
    "question_rewriter.invoke({'question': question})"
   ]
  },
  {
   "cell_type": "code",
   "execution_count": 12,
   "metadata": {},
   "outputs": [],
   "source": [
    "## Implementing websearch with Tavily\n",
    "\n",
    "from langchain_community.tools.tavily_search import TavilySearchResults\n",
    "web_search_tool = TavilySearchResults(k=3)"
   ]
  },
  {
   "cell_type": "code",
   "execution_count": 13,
   "metadata": {},
   "outputs": [],
   "source": [
    "from typing import List\n",
    "from typing_extensions import TypedDict\n",
    "\n",
    "class GraphState(TypedDict):\n",
    "    question:str\n",
    "    generator:str\n",
    "    web_search:str\n",
    "    documents : List[str]"
   ]
  },
  {
   "cell_type": "code",
   "execution_count": 14,
   "metadata": {},
   "outputs": [],
   "source": [
    "from langchain.schema import Document\n",
    "\n",
    "def retrieve(state):\n",
    "\n",
    "    print(\"---RETRIEVE---\")\n",
    "\n",
    "    question = state['question']\n",
    "\n",
    "    documents = retreiver.invoke(question)\n",
    "    return {'documents': documents, 'question': question}\n",
    "\n",
    "def generate(state):\n",
    "\n",
    "    print(\"---GENERATE---\")\n",
    "    question = state['question']\n",
    "    documents = state['documents']\n",
    "    generation=rag_chain.invoke({\"context\":documents,\"question\":question})\n",
    "    return {\"documents\":documents, \"question\":question, \"generation\":generation}\n",
    "\n",
    "\n",
    "def grade_documents(state):\n",
    "    \"\"\" Determines wheather the retrieved document is relevent or not.\n",
    "    Input : Current graph state.\n",
    "    Output: Updates document key with only filtered relevent documents.\n",
    "    \"\"\"\n",
    "\n",
    "    print(\"---CHECK DOCUMENT RELEVANCE TO THE QUESTION----\")\n",
    "    question = state['question']\n",
    "    documents = state['documents']\n",
    "\n",
    "    ## Score each document.\n",
    "    filtered_docs = []\n",
    "    web_search = \"No\"\n",
    "    for d in documents:\n",
    "        score = retrieval_grader.invoke(\n",
    "            {'question': question, 'document': d.page_content}\n",
    "        )\n",
    "        grade = score.binary_score\n",
    "\n",
    "        if grade==\"yes\":\n",
    "            print(\"--Grade : Document relevent--\")\n",
    "            filtered_docs.append(d)\n",
    "        else:\n",
    "            print(\"--Grade: Document Not Relevent\")\n",
    "            web_search = \"yes\"\n",
    "            continue\n",
    "    return {\"documents\": filtered_docs, \"question\": question, \"web_search\": web_search}\n",
    "\n",
    "\n",
    "def transform_query(state):\n",
    "    \"\"\" Transform the query to preoduce the better question\n",
    "    Input : Args: Current Graph State\n",
    "    Output: Return : update the question key with re-phrased question\n",
    "    \"\"\"\n",
    "    print(\"--Tranform Query--\")\n",
    "    question = state['question']\n",
    "    documents = state['documents']\n",
    "\n",
    "    ## Re-write question\n",
    "\n",
    "    better_question = question_rewriter.invoke({'question':question})\n",
    "\n",
    "    return {\"documents\": documents, \"question\": better_question}\n",
    "\n",
    "def web_search(state):\n",
    "    \"\"\" Websearch based on re-phrased question\n",
    "    Input Args: Current Graph state\n",
    "    Output Returns: Updates document with appended web search result\"\"\"\n",
    "\n",
    "    print(\"---web search---\")\n",
    "    question = state['question']\n",
    "    documents = state['documents']\n",
    "\n",
    "    ## web-search\n",
    "\n",
    "    doc = web_search_tool.invoke({'query': question})\n",
    "    web_result = \"\\n\".join([d['content'] for d in doc])\n",
    "    web_result = Document(page_content=web_result)\n",
    "    documents.append(web_result)\n",
    "\n",
    "    return {\"documents\": documents, 'question': question}\n",
    "\n",
    "\n",
    "\n",
    "## Lets define the edges.\n",
    "\n",
    "def decide_to_generate(state):\n",
    "    \"\"\" Determines wheather to generate an answer, or regenrate the question\n",
    "    Input Args : Current State Graph\n",
    "     Output Retunrn : Binary Decision for the next node to call. \"\"\"\n",
    "    \n",
    "    print(\"--Access Graded Document--\")\n",
    "    question = state['question']\n",
    "    print(question)\n",
    "    web_search = state['web_search']\n",
    "    documents = state['documents']\n",
    "    print(documents)\n",
    "\n",
    "    if web_search == \"yes\":\n",
    "        print(\"--Decision: All documents are filtered and nt relevent to the query \\n Transform the query\")\n",
    "        return \"transform_query\"\n",
    "    else:\n",
    "        print(\"--Decision : We have relevent document, so generate the answer--\")\n",
    "        return \"generate\"\n",
    "\n",
    "\n"
   ]
  },
  {
   "cell_type": "code",
   "execution_count": 16,
   "metadata": {},
   "outputs": [],
   "source": [
    "from langgraph.graph import START, END, StateGraph\n",
    "\n",
    "workflow = StateGraph(GraphState)\n",
    "\n",
    "workflow.add_node(\"retrieve\", retrieve)\n",
    "workflow.add_node(\"grade_document\", grade_documents)\n",
    "workflow.add_node(\"generate\", generate)\n",
    "workflow.add_node(\"transform_query\", transform_query)\n",
    "workflow.add_node(\"web_search_node\", web_search)\n",
    "\n",
    "## Build Graph\n",
    "\n",
    "workflow.add_edge(START, 'retrieve')\n",
    "workflow.add_edge('retrieve', 'grade_document')\n",
    "workflow.add_conditional_edges(\n",
    "    \"grade_document\",\n",
    "    decide_to_generate,\n",
    "    {\n",
    "        'transform_query':'transform_query',\n",
    "        'generate':'generate'\n",
    "    },\n",
    ")\n",
    "workflow.add_edge('transform_query', 'web_search_node')\n",
    "workflow.add_edge('web_search_node', 'generate')\n",
    "workflow.add_edge('generate', END)\n",
    "\n",
    "app = workflow.compile()\n"
   ]
  },
  {
   "cell_type": "code",
   "execution_count": 17,
   "metadata": {},
   "outputs": [
    {
     "data": {
      "image/png": "[encoded data removed]",
      "text/plain": [
       "<IPython.core.display.Image object>"
      ]
     },
     "metadata": {},
     "output_type": "display_data"
    }
   ],
   "source": [
    "from IPython.display import Image, display\n",
    "display(Image(app.get_graph(xray=True).draw_mermaid_png()))"
   ]
  },
  {
   "cell_type": "code",
   "execution_count": 18,
   "metadata": {},
   "outputs": [
    {
     "name": "stdout",
     "output_type": "stream",
     "text": [
      "---RETRIEVE---\n",
      "---CHECK DOCUMENT RELEVANCE TO THE QUESTION----\n",
      "--Grade: Document Not Relevent\n",
      "--Grade: Document Not Relevent\n",
      "--Grade: Document Not Relevent\n",
      "--Grade: Document Not Relevent\n",
      "--Access Graded Document--\n",
      "what are the type of chunking strategy\n",
      "[]\n",
      "--Decision: All documents are filtered and nt relevent to the query \n",
      " Transform the query\n",
      "--Tranform Query--\n",
      "---web search---\n",
      "---GENERATE---\n"
     ]
    },
    {
     "data": {
      "text/plain": [
       "{'question': 'What types of chunking strategies exist?',\n",
       " 'web_search': 'yes',\n",
       " 'documents': [Document(metadata={}, page_content=\"Approach chunking with curiosity and a playful spirit. Experiment with different strategies:\\n- **Character Chunking**: Divide the text based on a fixed number of characters.\\n- **Recursive Character Chunkiang**: Take it a step further by dividing until a certain condition is met.\\n- **Document Specific Chunking**: Respect the document's structure for a coherent breakdown.\\n- **Semantic Chunking**: Group chunks based on semantic relationships for meaningful insights. [...] with curiosity and a playful spirit. Experiment with different strategies:  - **Character Chunking**: Divide the text based on a fixed number of characters. - **Recursive Character Chunkiang**: Take it a step further by dividing until a certain condition is met. - **Document Specific Chunking**: Respect the document's structure for a coherent breakdown. - **Semantic Chunking**: Group chunks based on semantic relationships for meaningful insights. - **Agent Chunking**: Imagine having an [...] First things first, we have Character Chunking. This strategy divides the text into chunks based on a fixed number of characters. Its simplicity makes it a great starting point, but it can sometimes disrupt the text's flow, breaking sentences or words in unexpected places. Despite its limitations, it's a great stepping stone towards more advanced methods.\\n\\nNow letâ\\x80\\x99s see that in action with an example. Imagine a text that reads:\\nSeveral different chunking strategies are employed in RAG chunking, each with its own advantages and use cases:\\n\\n### 1. Fixed Size Chunking\\n\\nFixed-size chunking is a straightforward approach where text is divided into uniform chunks based on a predefined character count.\\n\\nFor example, you might split a document into chunks of 500 tokens each, regardless of whether the chunk ends mid-sentence or across paragraphs. [...] Incorporating chunking into Retrieval-Augmented Generation (RAG) is essential for optimizing the retrieval and generation process. By intelligently breaking down information into manageable chunks, we enhance the relevance and accuracy of the data fed into the model, improve context preservation, and ensure efficient processing. Each chunking method—whether fixed-size, semantic, token-based, or agentic—offers unique advantages, allowing RAG to be more adaptable to various tasks and document [...] Want to see chunking in action? Our [AI POC](https://www.f22labs.com/ai-pocs/) demonstrates how we implemented different chunking strategies in real-world applications. For example, our document chat systems use optimized chunking to efficiently process and retrieve information from various types of documents, ensuring accurate and context-aware responses.\\n\\n## 7 Types of Chunking Strategies in RAG\\nIn his video, [Greg Kamradt](https://www.youtube.com/watch?v=8OJC21T2SL4) provides overview of different chunking strategies. These strategies can be leveraged as starting points to develop RAG based LLM application. They have been classified into five levels based on the complexity and effectiveness.\\n\\n> Your goal is not to chunk for chunking sake, our goal is to get our data in a format where it can be retrieved for value later.\\n\\nLevel 1 : Fixed Size Chunking\\n============================= [...] [7 Chunking Strategies for Langchain📖 ------------------------------------- ### · 1. Fixed-Size (Character) Sliding Window 🪟 · 2. Recursive Structure-Aware 📚 · 3. Sentence/Paragraph Splitting ✏️ · 4. Content-Aware…](https://medium.com/@anixlynch/7-chunking-strategies-for-langchain-b50dac194813?source=post_page---read_next_recirc--7b735895694d----1---------------------15f9317e_f58f_4ff0_b40a_893a778ed96d--------------)\\n\\nJan 8 [...] While Fixed size chunking is easier to implement, it doesn’t consider the structure of text. Recursive chunking offers an alternative.\\n\\nIn this method, we divide the text into smaller chunk in a hierarchical and iterative manner using a set of separators. If the initial attempt at splitting the text doesn’t produce chunks of the desired size, the method recursively calls itself on the resulting chunks with a different separator until the desired chunk size is achieved.\\nAnswering these questions will allow you to develop a chunking strategy that balances performance and accuracy, and this, in turn, will ensure the query results are more relevant.\\n\\nChunking methods\\n----------------\\n\\nThere are different methods for chunking, and each of them might be appropriate for different situations. By examining the strengths and weaknesses of each method, our goal is to identify the right scenario to apply them to.\\n\\n### Fixed-size chunking [...] This is the most common and straightforward approach to chunking: we simply decide the number of tokens in our chunk and, optionally, whether there should be any overlap between them. In general, we will want to keep some overlap between chunks to make sure that the semantic context doesn’t get lost between chunks. Fixed-sized chunking will be the best path in most common cases. Compared to other forms of chunking, fixed-sized chunking is computationally cheap and simple to use since it doesn’t [...] These are a set of methods for taking advantage of the nature of the content we’re chunking and applying more sophisticated chunking to it. Here are some examples:\\n\\n#### Sentence splitting\\n\\nAs we mentioned before, many models are optimized for embedding sentence-level content. Naturally, we would use sentence chunking, and there are several approaches and tools available to do this, including:\\n- Document with images (Multi-Modal):\\n\\n- Embeddings for images and text may differ, although the CLIP model supports this.\\n\\n- An effective strategy involves using a multi-modal model (like GPT-4 vision) to generate image summaries and store their embeddings.\\n\\n## 4. Semantic Chunking\\n\\nSemantic Chunking goes beyond content and structure, aiming to extract semantic meaning from embeddings and assess the semantic relationship between chunks. [...] **3. Customization:** Some chunking methods, like content-aware chunking, allow for custom-tailoring chunks according to the content’s specific characteristics. This customization ensures that the chunks are molded to fit the content perfectly, enhancing processing efficiency and accuracy. [...] Now that we see what chunking is, we will discuss on what are the different methods for chunking.\\n\\n## 1.Fixed Size Chunking\")]}"
      ]
     },
     "execution_count": 18,
     "metadata": {},
     "output_type": "execute_result"
    }
   ],
   "source": [
    "app.invoke({'question': 'what are the type of chunking strategy'})"
   ]
  },
  {
   "cell_type": "code",
   "execution_count": 19,
   "metadata": {},
   "outputs": [
    {
     "name": "stdout",
     "output_type": "stream",
     "text": [
      "---RETRIEVE---\n",
      "---CHECK DOCUMENT RELEVANCE TO THE QUESTION----\n",
      "--Grade: Document Not Relevent\n",
      "--Grade: Document Not Relevent\n",
      "--Grade: Document Not Relevent\n",
      "--Grade: Document Not Relevent\n",
      "--Access Graded Document--\n",
      "what are the type of agent memory\n",
      "[]\n",
      "--Decision: All documents are filtered and nt relevent to the query \n",
      " Transform the query\n",
      "--Tranform Query--\n",
      "---web search---\n",
      "---GENERATE---\n"
     ]
    },
    {
     "data": {
      "text/plain": [
       "{'question': 'What are the different types of memory in an agent?',\n",
       " 'web_search': 'yes',\n",
       " 'documents': [Document(metadata={}, page_content=\"Like any computer system, **autonomous AI agents** store and retrieve information. They rely on various types of memory to perform objectives defined by user instructions. By learning the strengths and limitations of each memory type, you will be able to unlock your agents’ full potential.\\n\\nIn this article, we explore three key types of memory — **long-term memory**, s**hort-term memory**, and **dynamic memory** — in AI agents and how each fits into the larger picture of agent knowledge. [...] Even a well-trained long-term memory can become outdated or miss newly emerging information. The good news is, the last type of agent memory combines the best of both worlds — the benefits of long-term and short-term memory — to pull in additional context on the fly when needed.\\n\\n**Dynamic memory** allows AI agents to access live, real-time data from your current projects, a website, or other connected sources as they work, where they work. [...] Short-term memory in AI agents includes every piece of instruction or prompt you provide as well as any piece of data (text, images, videos, sound) generated by the agent in return. However, it can also include uploaded files and documents you share within an active agent chat.\\n> You want _both_ - RAG to inform the LLM, memory to shape its behavior.\\n\\n* * *\\n\\nTypes of Memory in Agents: A High-Level Taxonomy\\n------------------------------------------------\\n\\nAt a foundational level, memory in AI agents comes in two forms:\\n\\n*   **Short-term memory**: Holds immediate context within a single interaction.\\n*   **Long-term memory**: Persists knowledge across sessions, tasks, and time. [...] Just like in humans, these memory types serve different cognitive functions. Short-term memory helps the agent stay coherent in the moment. Long-term memory helps it learn, personalize, and adapt.\\n\\nLet’s break this down further: [...] | **Type** | **Role** | **Example** |\\n| --- | --- | --- |\\n| **Working Memory** (short-term) | Maintains short-term conversational coherence | “What was the last question again?” |\\n| **Factual Memory** (long-term) | Retains user preferences, communication style, domain context | “You prefer markdown output and short-form answers.” |\\n| **Episodic Memory** (long-term) | Remembers specific past interactions or outcomes | “Last time we deployed this model, the latency increased.” |\\nEvery agent has short-term memory and some level of long-term memory. Understanding the difference between the two and what types of long-term memory exist is essential to knowing what to adopt in your toolbelt and how to design your AI application system and business logic. [...] #### Short-term memory (or working memory)\\n\\nShort-term memory, often called working memory, is the temporary storage space where an agent holds information it's currently using. This memory typically maintains active information like the current conversation context, recent messages, and intermediate reasoning steps. [...] When building agents, procedural memory often takes the form of functions, algorithms, or code that defines how the agent should act in different situations. This could be as simple as a template for greeting users or as complex as a multi-step reasoning process for solving tough problems. Unlike semantic memory, which stores what the agent knows, procedural memory stores how the agent applies that knowledge.\\n\\n#### Long-term memory: Episodic memory\\nIn an agentic framework for Large Language Models (LLMs), memory plays a crucial role in enabling agents to operate effectively, learn from interactions, and adapt over time. Here’s an overview of the different types of memories typically used in such frameworks:\\n\\n### 1\\\\. Short-Term Memory [...] *   Definition: Shared memory used when the agent collaborates with other agents or systems in a multi-agent environment.\\n*   Purpose: Facilitates communication and coordination among agents.\\n*   Example: Sharing learned knowledge or task progress in a team of AI agents. Synchronizing goals between agents working on related subtasks.\\n*   Challenges: Ensuring consistency and avoiding conflicts in shared memory.\\n\\n### 8\\\\. Associative Memory [...] *   Definition: A type of memory that stores detailed records of specific events or experiences.\\n*   Purpose: Helps the agent recall specific past sessions or tasks to inform current actions.\\n*   Example: Recalling a particular user conversation where specific instructions were given. Referencing a past solution provided for a similar problem.\\n*   Challenges: Efficient indexing and retrieval of relevant episodes.\\n\\n### 4\\\\. Semantic Memory\\nResearchers categorize agentic memory in much the same way that psychologists categorize human memory. The influential [Cognitive Architectures for Language Agents (CoALA) paper](https://arxiv.org/abs/2309.02427)1 from a team at Princeton University describes different types of memory as:\\n\\n### Short-term memory [...] AI agents typically implement semantic memory using knowledge bases, symbolic AI or [vector embeddings](https://www.ibm.com/think/topics/vector-embedding), allowing them to process and retrieve relevant information efficiently. This type of memory is used in real-world applications that require domain expertise, such as legal AI assistants, medical diagnostic tools and enterprise knowledge management systems. [...] Episodic memory allows AI agents to recall specific past experiences, similar to how humans remember individual events. This type of memory is useful for case-based reasoning, where an AI learns from past events to make better decisions in the future.  \\n  \\nEpisodic memory is often implemented by logging key events, actions and their outcomes in a structured format that the agent can access when making decisions.\")]}"
      ]
     },
     "execution_count": 19,
     "metadata": {},
     "output_type": "execute_result"
    }
   ],
   "source": [
    "app.invoke({'question': 'what are the type of agent memory'})"
   ]
  },
  {
   "cell_type": "code",
   "execution_count": 20,
   "metadata": {},
   "outputs": [
    {
     "name": "stdout",
     "output_type": "stream",
     "text": [
      "---RETRIEVE---\n",
      "---CHECK DOCUMENT RELEVANCE TO THE QUESTION----\n",
      "--Grade: Document Not Relevent\n",
      "--Grade: Document Not Relevent\n",
      "--Grade: Document Not Relevent\n",
      "--Grade: Document Not Relevent\n",
      "--Access Graded Document--\n",
      "what are AI agents\n",
      "[]\n",
      "--Decision: All documents are filtered and nt relevent to the query \n",
      " Transform the query\n",
      "--Tranform Query--\n",
      "---web search---\n",
      "---GENERATE---\n"
     ]
    },
    {
     "data": {
      "text/plain": [
       "{'question': 'What is the role of AI agents in technology and how do they function?',\n",
       " 'web_search': 'yes',\n",
       " 'documents': [Document(metadata={}, page_content=\"## How do AI Agents Work?\\n\\nAI agents operate in a continuous cycle: they gather information, analyze it, make decisions, and take action.\\n\\nThese systems range from simple task-specific bots to advanced, adaptive agents that can reason, plan, and refine their responses based on experience.\\n\\nLet’s look at the three tasks they run through:\\n\\n### 1. Perception: Gathering Input [...] AI agents help organizations identify patterns, predict needs, and optimize strategies.\\n\\nFor example, an AI agent monitoring customer support tickets might detect a recurring product defect, prompting proactive improvements. In finance, AI-powered advisors can analyze market trends and provide real-time investment recommendations. In HR, AI agents can assess employee sentiment through workplace chat analysis, helping companies address concerns before they lead to dissatisfaction. [...] Traditional software follows strict, pre-programmed rules—if X happens, do Y. That makes it reliable for repetitive tasks but struggles with anything unexpected.\\n\\nAI agents, on the other hand, make decisions dynamically. They analyze their environment, adapt to new inputs, and improve over time.\\n\\nFor example, a rule-based chatbot can only respond to specific keywords, while an AI-powered chatbot understands intent and refines its answers with experience.\\nAn AI agent is an entity that can act autonomously in an environment. It can take information from its surroundings, make decisions based on that data, and act to transform those circumstances—physical, digital, or mixed. More advanced systems can learn and update their behavior over time, constantly trying out new solutions to a problem until they achieve the goal. [...] Don't worry: current technology doesn't come close to that kind of science fiction—not yet. Right now, AI agents leverage [AI models](https://zapier.com/blog/best-llm/) to understand goals, generate tasks, and go about completing them. You can use them to automate work and outsource complex cognitive tasks, creating a team of robotic coworkers to support your human ones—11 a.m. chat by the watercooler optional.\\n\\nMeet your new AI teammates\\n\\n[Try Zapier Agents](https://zapier.com/agents) [...] ### Traditional AI agent workflow\\n\\nIn a nutshell, an AI agent uses its sensors to gather data, control systems to think through hypotheses and solutions, actuators to carry out actions in the real world, and a learning system to keep track of its progress and learn from mistakes.\\n\\nBut what does this look like step-by-step? Let's drill down on how a goal-based AI agent works, since it's likely you'll build or use one of these in the future.\\nPut simply, AI agents are artificial intelligence that use tools to accomplish goals. AI agents have the ability to remember across tasks and changing states; they can use one or more AI models to complete tasks; and they can decide when to access internal or external systems on a user’s behalf. This enables AI agents to make decisions and take actions autonomously with minimal human oversight. [...] What Do AI Agents Do?\\n---------------------\\n\\nAI agents represent a new era in [artificial intelligence](https://www.bcg.com/capabilities/artificial-intelligence), far surpassing traditional software. Unlike static tools, these intelligent software agents act as autonomous, decision-making entities. They analyze data, plan tasks, take action, and continuously adapt—often in real time. Here’s what makes them so powerful: [...] *   AI agents decide on the best course of action by considering goals, roles, and constraints. They can update their plans in real time as things change, making them more adaptable to process change and edge cases than techniques like robotic process automation.\\n*   AI agents get things done by using connected systems and collaborating with other intelligent agents.\\nAs technology advances, AI agents are poised to become more integrated into daily activities, revolutionizing the ways tasks are performed and enhancing human capabilities.\\n\\n## How do AI agents work\\n\\nAI agents are designed to perform tasks autonomously with a degree of intelligence, simulating the decision-making capabilities of humans within certain contexts.\\n\\n### AIÂ\\xa0agent functionality [...] An AI agent is a program that can perform tasks on behalf of a user, often with a level of autonomy and intelligence that mimics human-like behavior. Equipped with the capacity to analyze data and make decisions, these agents can learn from interactions and experiences, leading to improvements in performance over time. As they become more advanced, AI agents are increasingly integrated into various sectors. These sectors include customer service, healthcare, finance, and more, streamlining [...] AI agents operate based on a combination of algorithms and data inputs. They process information using machine learning models to interpret and react to their environment. Key functional components include:\\n\\nThe workflow for an AI agent is often structured as follows:\\n\\nAn example of AI agent functionality in practice might be a customer service chatbot:\\n\\nThrough these mechanisms, AI agents are integral to automating complex tasks that require adaptability and learning capability.\\nWhat are AI agents?\\n-------------------\\n\\nAI agents are autonomous software tools that perform tasks, make decisions, and interact with their environment intelligently and rationally. They use artificial intelligence to learn, adapt, and take action based on real-time feedback and changing conditions. AI agents can work on their own or as part of a bigger system, learning and changing based on the data they process. [...] AI agents differ from other AI technologies in their ability to act autonomously. Unlike other AI models that require constant human input, intelligent agents can initiate actions, make decisions based on predefined goals, and adapt to new information in real time. This ability to operate independently makes intelligent agents highly valuable in complex, dynamic environments such as software development.\\n\\nHow AI agents work\\n------------------ [...] ### Frequently asked questions\\n\\n#### What is an AI agent?\\n\\nAn [AI agent](https://github.com/features/copilot) is an autonomous system designed to perform tasks, make decisions, and adapt based on data and user feedback. It operates independently, automating processes in various fields like software development and security.\\n\\n#### What do AI agents do?\")]}"
      ]
     },
     "execution_count": 20,
     "metadata": {},
     "output_type": "execute_result"
    }
   ],
   "source": [
    "app.invoke({'question': 'what are AI agents'})"
   ]
  }
 ],
 "metadata": {
  "kernelspec": {
   "display_name": "Python 3",
   "language": "python",
   "name": "python3"
  },
  "language_info": {
   "codemirror_mode": {
    "name": "ipython",
    "version": 3
   },
   "file_extension": ".py",
   "mimetype": "text/x-python",
   "name": "python",
   "nbconvert_exporter": "python",
   "pygments_lexer": "ipython3",
   "version": "3.10.0"
  }
 },
 "nbformat": 4,
 "nbformat_minor": 2
}
