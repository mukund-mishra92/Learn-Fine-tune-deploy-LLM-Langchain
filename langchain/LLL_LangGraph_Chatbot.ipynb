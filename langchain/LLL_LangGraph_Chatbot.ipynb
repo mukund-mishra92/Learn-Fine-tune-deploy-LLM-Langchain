{
 "cells": [
  {
   "cell_type": "code",
   "execution_count": 2,
   "metadata": {},
   "outputs": [],
   "source": [
    "from typing_extensions import TypedDict\n",
    "from langgraph.graph import StateGraph, START, END\n",
    "\n",
    "## Reducer : \n",
    "from typing import Annotated\n",
    "from langgraph.graph.message import add_messages\n",
    "\n",
    "class State(TypedDict):\n",
    "    messages : Annotated[list, add_messages]"
   ]
  },
  {
   "cell_type": "code",
   "execution_count": 3,
   "metadata": {},
   "outputs": [],
   "source": [
    "import os\n",
    "from dotenv import load_dotenv\n",
    "load_dotenv()\n",
    "\n",
    "os.environ[\"OPENAI_API_KEY\"] = os.getenv(\"OPENAI_API_KEY\")\n",
    "os.environ[\"GROQ_API_KEY\"] = os.getenv(\"GROQ_API_KEY\")"
   ]
  },
  {
   "cell_type": "code",
   "execution_count": 4,
   "metadata": {},
   "outputs": [
    {
     "data": {
      "text/plain": [
       "AIMessage(content='Hello! How can I assist you today?', additional_kwargs={'refusal': None}, response_metadata={'token_usage': {'completion_tokens': 9, 'prompt_tokens': 8, 'total_tokens': 17, 'completion_tokens_details': {'accepted_prediction_tokens': 0, 'audio_tokens': 0, 'reasoning_tokens': 0, 'rejected_prediction_tokens': 0}, 'prompt_tokens_details': {'audio_tokens': 0, 'cached_tokens': 0}}, 'model_name': 'gpt-4o-2024-08-06', 'system_fingerprint': 'fp_07871e2ad8', 'id': 'chatcmpl-BgCUR5zrkIfZ4IeDyXjTMyM3jog3A', 'service_tier': 'default', 'finish_reason': 'stop', 'logprobs': None}, id='run--bc4a6cf1-2583-4f93-b301-9c93dbb7f57f-0', usage_metadata={'input_tokens': 8, 'output_tokens': 9, 'total_tokens': 17, 'input_token_details': {'audio': 0, 'cache_read': 0}, 'output_token_details': {'audio': 0, 'reasoning': 0}})"
      ]
     },
     "execution_count": 4,
     "metadata": {},
     "output_type": "execute_result"
    }
   ],
   "source": [
    "from langchain_openai import ChatOpenAI\n",
    "llm = ChatOpenAI(model=\"gpt-4o\")\n",
    "llm.invoke(\"hello\")"
   ]
  },
  {
   "cell_type": "code",
   "execution_count": 6,
   "metadata": {},
   "outputs": [
    {
     "data": {
      "text/plain": [
       "AIMessage(content=\"Hello Dr. Balmukund,\\n\\nI understand you're interested in learning about the symbols used in P&ID diagrams.  \\n\\nP&ID (Process and Instrumentation Diagram) diagrams use a standardized set of symbols to represent various process equipment, piping, instrumentation, and control elements. \\n\\nHere's a breakdown of some common symbols you'll encounter:\\n\\n**Process Equipment:**\\n\\n* **Vessels:** Cylinders, spheres, or other containers for holding fluids or solids.\\n* **Heat Exchangers:** Shown as U-shaped or shell-and-tube configurations.\\n* **Reactors:** Typically represented as rectangular shapes with internal features.\\n* **Compressors and Pumps:** Usually depicted as circular shapes with arrows indicating flow direction.\\n* **Filters and Separators:** Distinctive symbols representing their specific function.\\n\\n**Piping:**\\n\\n* **Pipelines:** Represented by lines with varying thicknesses and colors to denote different fluids or materials.\\n* **Valves:** Various symbols for different valve types (gate, globe, check, etc.)\\n* **Pumps and Compressors:** As mentioned above, they often have specific symbols.\\n\\n**Instrumentation:**\\n\\n* **Sensors and Transmitters:** Symbols representing pressure, temperature, flow, level, etc.\\n* **Controllers and Regulators:**  Symbols depicting automatic control systems.\\n* **Indicators and Displays:**  Symbols for gauges, alarms, and other visual representations of process data.\\n\\n**Control Elements:**\\n\\n* **Logic Solenoids:** Symbols for electrical control devices.\\n* **Junction Boxes:**  Boxes representing electrical connections.\\n* **Flow Control:** Symbols for flowmeters, control valves, and other flow-related devices.\\n\\n**Other Symbols:**\\n\\n* **Connections:**  Symbols for flanges, nozzles, and other points of connection.\\n* **Lines:**  Used to connect equipment, piping, and instrumentation.\\n* **Notes and Labels:**  Textual information for identifying components, processes, and parameters.\\n\\n**Resources:**\\n\\n* **IEC 61082:** The International Electrotechnical Commission (IEC) standard for P&ID symbols.\\n* **ASME B31.3:** The American Society of Mechanical Engineers (ASME) standard for process piping.\\n\\nI recommend consulting these resources for a comprehensive understanding of P&ID symbols.\\n\\nIs there anything specific you'd like to know about, Dr. Balmukund? Perhaps a particular type of symbol or a specific application? \\n\\n\\n\\n\", additional_kwargs={}, response_metadata={'token_usage': {'completion_tokens': 516, 'prompt_tokens': 34, 'total_tokens': 550, 'completion_time': 0.938181818, 'prompt_time': 0.003452574, 'queue_time': 0.249441676, 'total_time': 0.941634392}, 'model_name': 'gemma2-9b-it', 'system_fingerprint': 'fp_10c08bf97d', 'finish_reason': 'stop', 'logprobs': None}, id='run--503edf76-f560-47cd-aa09-7e05807593f1-0', usage_metadata={'input_tokens': 34, 'output_tokens': 516, 'total_tokens': 550})"
      ]
     },
     "execution_count": 6,
     "metadata": {},
     "output_type": "execute_result"
    }
   ],
   "source": [
    "from langchain_groq import ChatGroq\n",
    "llm_groq = ChatGroq(model=\"gemma2-9b-it\")\n",
    "llm_groq.invoke(\"Hey, i am Dr. Balmukund, and i would like to know about differnt symbols in p&id diagram\")"
   ]
  },
  {
   "cell_type": "code",
   "execution_count": 7,
   "metadata": {},
   "outputs": [],
   "source": [
    "def Mishrabot(state:State):\n",
    "    return {\"messages\":[llm_groq.invoke(state['messages'])]}"
   ]
  },
  {
   "cell_type": "code",
   "execution_count": 9,
   "metadata": {},
   "outputs": [
    {
     "data": {
      "image/png": "[encoded data removed]",
      "text/plain": [
       "<IPython.core.display.Image object>"
      ]
     },
     "metadata": {},
     "output_type": "display_data"
    }
   ],
   "source": [
    "graph = StateGraph(State)\n",
    "graph.add_node(\"Mybot\", Mishrabot)\n",
    "\n",
    "graph.add_edge(START, \"Mybot\")\n",
    "graph.add_edge(\"Mybot\", END)\n",
    "\n",
    "graph_builder = graph.compile()\n",
    "\n",
    "## Display\n",
    "\n",
    "from IPython.display import Image, display\n",
    "display(Image(graph_builder.get_graph().draw_mermaid_png()))"
   ]
  },
  {
   "cell_type": "code",
   "execution_count": 13,
   "metadata": {},
   "outputs": [
    {
     "data": {
      "text/plain": [
       "{'messages': [HumanMessage(content='Hi i am Balmukund, and i am a research scientist', additional_kwargs={}, response_metadata={}, id='d155faf8-abef-4a31-8882-86b5fbd2644d'),\n",
       "  AIMessage(content=\"Hi Balmukund,\\n\\nIt's nice to meet you! Being a research scientist is fascinating work. \\n\\nWhat area of research do you specialize in? I'm always eager to learn about new scientific discoveries.\\n\", additional_kwargs={}, response_metadata={'token_usage': {'completion_tokens': 48, 'prompt_tokens': 22, 'total_tokens': 70, 'completion_time': 0.087272727, 'prompt_time': 0.002131006, 'queue_time': 0.243804333, 'total_time': 0.089403733}, 'model_name': 'gemma2-9b-it', 'system_fingerprint': 'fp_10c08bf97d', 'finish_reason': 'stop', 'logprobs': None}, id='run--68959951-5280-4606-ac21-43193a7c5dc1-0', usage_metadata={'input_tokens': 22, 'output_tokens': 48, 'total_tokens': 70})]}"
      ]
     },
     "execution_count": 13,
     "metadata": {},
     "output_type": "execute_result"
    }
   ],
   "source": [
    "## Invoking\n",
    "\n",
    "graph_builder.invoke({\"messages\": \"Hi i am Balmukund, and i am a research scientist\"})"
   ]
  },
  {
   "cell_type": "code",
   "execution_count": 15,
   "metadata": {},
   "outputs": [
    {
     "data": {
      "text/plain": [
       "<generator object Pregel.stream at 0x11a3a11c0>"
      ]
     },
     "execution_count": 15,
     "metadata": {},
     "output_type": "execute_result"
    }
   ],
   "source": [
    "## streaming\n",
    "\n",
    "graph_builder.stream({\"messages\": \"Hello, my name is Balmukund\"})"
   ]
  },
  {
   "cell_type": "code",
   "execution_count": 16,
   "metadata": {},
   "outputs": [
    {
     "name": "stdout",
     "output_type": "stream",
     "text": [
      "{'Mybot': {'messages': [AIMessage(content=\"Hello Balmukund, it's nice to meet you! 👋\\n\\nHow can I help you today? 😄  \\n\\n\", additional_kwargs={}, response_metadata={'token_usage': {'completion_tokens': 28, 'prompt_tokens': 17, 'total_tokens': 45, 'completion_time': 0.050909091, 'prompt_time': 0.001914167, 'queue_time': 0.26501425199999995, 'total_time': 0.052823258}, 'model_name': 'gemma2-9b-it', 'system_fingerprint': 'fp_10c08bf97d', 'finish_reason': 'stop', 'logprobs': None}, id='run--0018a92a-da69-4803-8c19-2c05ffff6df2-0', usage_metadata={'input_tokens': 17, 'output_tokens': 28, 'total_tokens': 45})]}}\n"
     ]
    }
   ],
   "source": [
    "for event in graph_builder.stream({\"messages\": \"Hello, my name is Balmukund\"}):\n",
    "    print(event)"
   ]
  },
  {
   "cell_type": "code",
   "execution_count": 17,
   "metadata": {},
   "outputs": [
    {
     "name": "stdout",
     "output_type": "stream",
     "text": [
      "{'messages': [HumanMessage(content='Hello, my name is Balmukund', additional_kwargs={}, response_metadata={}, id='c4efbc1f-b3b4-42b3-b670-b1785e23a0af')]}\n",
      "{'messages': [HumanMessage(content='Hello, my name is Balmukund', additional_kwargs={}, response_metadata={}, id='c4efbc1f-b3b4-42b3-b670-b1785e23a0af'), AIMessage(content=\"Hello Balmukund, it's nice to meet you! 👋 \\n\\nHow can I help you today? 😊  \\n\\n\", additional_kwargs={}, response_metadata={'token_usage': {'completion_tokens': 29, 'prompt_tokens': 17, 'total_tokens': 46, 'completion_time': 0.052727273, 'prompt_time': 0.001982917, 'queue_time': 0.245623072, 'total_time': 0.05471019}, 'model_name': 'gemma2-9b-it', 'system_fingerprint': 'fp_10c08bf97d', 'finish_reason': 'stop', 'logprobs': None}, id='run--bfd445e3-de06-4e94-9314-c2816c7a3700-0', usage_metadata={'input_tokens': 17, 'output_tokens': 29, 'total_tokens': 46})]}\n"
     ]
    }
   ],
   "source": [
    "for event in graph_builder.stream({\"messages\": \"Hello, my name is Balmukund\"}, stream_mode=\"values\"):\n",
    "    print(event)"
   ]
  }
 ],
 "metadata": {
  "kernelspec": {
   "display_name": "Python 3",
   "language": "python",
   "name": "python3"
  },
  "language_info": {
   "codemirror_mode": {
    "name": "ipython",
    "version": 3
   },
   "file_extension": ".py",
   "mimetype": "text/x-python",
   "name": "python",
   "nbconvert_exporter": "python",
   "pygments_lexer": "ipython3",
   "version": "3.10.0"
  }
 },
 "nbformat": 4,
 "nbformat_minor": 2
}
